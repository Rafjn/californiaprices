{
 "cells": [
  {
   "cell_type": "code",
   "execution_count": 11,
   "id": "65409cb3-3b97-4b7a-a4b1-a2914bff0b0c",
   "metadata": {
    "editable": true,
    "slideshow": {
     "slide_type": ""
    },
    "tags": []
   },
   "outputs": [],
   "source": [
    "#Importando as bibliotecas\n",
    "import streamlit as st\n",
    "import pandas as pd\n",
    "import numpy as np\n",
    "import geopandas as gpd\n",
    "\n",
    "from joblib import load\n",
    "from notebooks.src.config import DADOS_GEO_MEDIAN, DADOS_LIMPOS, MODELO_FINAL\n"
   ]
  },
  {
   "cell_type": "code",
   "execution_count": 19,
   "id": "63f287a0-28d7-41b9-9f39-55b8036728da",
   "metadata": {
    "editable": true,
    "slideshow": {
     "slide_type": ""
    },
    "tags": []
   },
   "outputs": [
    {
     "name": "stderr",
     "output_type": "stream",
     "text": [
      "2025-03-11 10:43:25.589 \n",
      "  \u001b[33m\u001b[1mWarning:\u001b[0m to view this Streamlit app on a browser, run it with the following\n",
      "  command:\n",
      "\n",
      "    streamlit run C:\\Users\\rafae\\anaconda3\\Lib\\site-packages\\ipykernel_launcher.py [ARGUMENTS]\n"
     ]
    },
    {
     "data": {
      "text/plain": [
       "DeltaGenerator()"
      ]
     },
     "execution_count": 19,
     "metadata": {},
     "output_type": "execute_result"
    }
   ],
   "source": [
    "#Título\n",
    "st.title('Previsão preços de Imóveis')\n"
   ]
  },
  {
   "cell_type": "code",
   "execution_count": null,
   "id": "e5452adf-4baa-48dd-a0f8-5574c6fb20ec",
   "metadata": {
    "editable": true,
    "slideshow": {
     "slide_type": ""
    },
    "tags": []
   },
   "outputs": [],
   "source": [
    "#Carregamento de dados\n",
    "\n",
    "@st.cache_data\n",
    "def carregar_dados_limpos():\n",
    "    return pd.read_parquet(DADOS_LIMPOS)\n",
    "\n",
    "@st.cache_data\n",
    "def carregar_dados_geo():\n",
    "    return pd.read_parquet(DADOS_GEO_MEDIAN)\n",
    "\n",
    "@st.cache_resource\n",
    "def carregar_modelo():\n",
    "    return load(MODELO_FINAL)\n",
    "\n",
    "\n",
    "df = carregar_dados_limpos()\n",
    "gdf_geo = carregar_dados_geo()\n",
    "modelo = carregar_modelo()\n",
    "\n",
    "#decorador é uma função que atua sobre outra função. Nesse caso, a função de cachê vai atuar sobre a função\n",
    "#de carregamento armazenando os dados na memória, impedindo o carregamento novamente"
   ]
  },
  {
   "cell_type": "code",
   "execution_count": null,
   "id": "40a789b4-10c5-4356-870c-cc058bbf70cb",
   "metadata": {
    "editable": true,
    "slideshow": {
     "slide_type": ""
    },
    "tags": []
   },
   "outputs": [],
   "source": [
    "#Dados de input\n",
    "longitude = st.number_input('Longitude', value= -122.33)\n",
    "latitude = st.number_input('Latitude', value= 37.88)\n",
    "\n",
    "housing_median_age = st.number_input('Idade do Imóvel', value= 10 )\n",
    "\n",
    "total_rooms = st.number_input('Total de Cômodos', value= 800)\n",
    "total_bedrooms = st.number_input('Total de quartos', value= 100)\n",
    "population = st.number_input('População', value= 300)\n",
    "households = st.number_input('Domicílios', value= 100)\n",
    "\n",
    "median_income = st.slider('Renda média (múltiplos de US$ 10k)', 0.5, )\n"
   ]
  }
 ],
 "metadata": {
  "kernelspec": {
   "display_name": "Python 3 (ipykernel)",
   "language": "python",
   "name": "python3"
  },
  "language_info": {
   "codemirror_mode": {
    "name": "ipython",
    "version": 3
   },
   "file_extension": ".py",
   "mimetype": "text/x-python",
   "name": "python",
   "nbconvert_exporter": "python",
   "pygments_lexer": "ipython3",
   "version": "3.12.4"
  }
 },
 "nbformat": 4,
 "nbformat_minor": 5
}
